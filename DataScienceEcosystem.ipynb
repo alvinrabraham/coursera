{
 "cells": [
  {
   "cell_type": "markdown",
   "id": "adfc98c5-3cdc-4fd8-9529-bd695ee09642",
   "metadata": {},
   "source": [
    "# Data Science Tools and Ecosystem"
   ]
  },
  {
   "cell_type": "markdown",
   "id": "59ec8222-44d1-48f0-878d-43455d517d42",
   "metadata": {},
   "source": [
    "In this notebook, Data Science Tools and Ecosystem are summarized."
   ]
  },
  {
   "cell_type": "markdown",
   "id": "4c6ca058-56b1-44a5-98c0-654455a76fab",
   "metadata": {},
   "source": [
    "Some of the popular languages that data scientists use are (among others):\n",
    "1. Python\n",
    "2. R\n",
    "3. C++\n",
    "4. Java\n",
    "5. SQL\n",
    "6. Julia\n",
    "7. Scala"
   ]
  },
  {
   "cell_type": "markdown",
   "id": "a9174df6-9e6f-450e-903f-f8aa884ba310",
   "metadata": {},
   "source": [
    "Some of the commonly used libraries used by Data Scientists include (among others):\n",
    "1. Pandas\n",
    "2. NumPy\n",
    "3. SciPy\n",
    "4. Matplotlib\n",
    "5. Seaborn\n",
    "6. Keras\n",
    "7. PyTorch"
   ]
  },
  {
   "cell_type": "markdown",
   "id": "d7dbef76-9bed-4692-a8a1-36c11c6e8053",
   "metadata": {},
   "source": [
    "|Data Science Tools|\n",
    "|---|\n",
    "|R Studio|\n",
    "|Anaconda|\n",
    "|Jupyter Notebooks|\n",
    "|Zeppelin|"
   ]
  },
  {
   "cell_type": "markdown",
   "id": "7d9e81ab-13d4-46c4-b158-ba52770eeeca",
   "metadata": {},
   "source": [
    "### Below are a few examples of evaluating arithmetic expressions in Python."
   ]
  },
  {
   "cell_type": "code",
   "execution_count": 8,
   "id": "4856682b-7cee-44d4-a2ee-2b4f4004c33b",
   "metadata": {},
   "outputs": [
    {
     "data": {
      "text/plain": [
       "17"
      ]
     },
     "execution_count": 8,
     "metadata": {},
     "output_type": "execute_result"
    }
   ],
   "source": [
    "#This is a common arithmetic example to multiply and then add integers.\n",
    "(3*4)+5"
   ]
  },
  {
   "cell_type": "code",
   "execution_count": 10,
   "id": "fa33bf9c-bf63-4b2f-8756-a1a7e2fe6257",
   "metadata": {},
   "outputs": [
    {
     "data": {
      "text/plain": [
       "3.3333333333333335"
      ]
     },
     "execution_count": 10,
     "metadata": {},
     "output_type": "execute_result"
    }
   ],
   "source": [
    "#This will convert 200 minutes to hours by dividing by 60\n",
    "200/60"
   ]
  },
  {
   "cell_type": "markdown",
   "id": "bcdcf1bb-f42b-484a-9443-06096de46f02",
   "metadata": {},
   "source": [
    "__Objectives:__\n",
    "* List popular languages for data science\n",
    "* List popular libraries for data science\n",
    "* List commonly used data science tools\n",
    "* Demonstrate how to evaluate arithmetic expressions in Python\n",
    "* Show how to provide comments in the cell"
   ]
  },
  {
   "cell_type": "markdown",
   "id": "0ab2e7c9-4a79-4300-a6be-f984af565eba",
   "metadata": {},
   "source": [
    "## Author\n",
    "Alvin Abraham\n"
   ]
  },
  {
   "cell_type": "code",
   "execution_count": null,
   "id": "b38400af-9e18-43a8-bcd3-fa5b3e3c3ed4",
   "metadata": {},
   "outputs": [],
   "source": []
  }
 ],
 "metadata": {
  "kernelspec": {
   "display_name": "Python 3 (ipykernel)",
   "language": "python",
   "name": "python3"
  },
  "language_info": {
   "codemirror_mode": {
    "name": "ipython",
    "version": 3
   },
   "file_extension": ".py",
   "mimetype": "text/x-python",
   "name": "python",
   "nbconvert_exporter": "python",
   "pygments_lexer": "ipython3",
   "version": "3.12.4"
  }
 },
 "nbformat": 4,
 "nbformat_minor": 5
}
